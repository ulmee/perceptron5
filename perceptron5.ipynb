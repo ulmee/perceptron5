{
 "cells": [
  {
   "cell_type": "code",
   "execution_count": 3,
   "metadata": {},
   "outputs": [],
   "source": [
    "#чтобы не париться самому за проверки, пишем рандом"
   ]
  },
  {
   "cell_type": "code",
   "execution_count": 14,
   "metadata": {},
   "outputs": [],
   "source": [
    "import random\n"
   ]
  },
  {
   "cell_type": "code",
   "execution_count": 15,
   "metadata": {},
   "outputs": [],
   "source": [
    "#подаем цифры(позже можно будет заменить на настоящие картинки, а пока пишем это ручками, в приниципе, результат тот же. Подаем,конечно же , списком)"
   ]
  },
  {
   "cell_type": "code",
   "execution_count": 16,
   "metadata": {},
   "outputs": [],
   "source": [
    "    # Цифры для обучающей выборки\n",
    "    num0 = list('111101101101111')\n",
    "    num1 = list('001001001001001')\n",
    "    num2 = list('111001111100111')\n",
    "    num3 = list('111001111001111')\n",
    "    num4 = list('101101111001001')\n",
    "    num5 = list('111100111001111')\n",
    "    num6 = list('111100111101111')\n",
    "    num7 = list('111001001001001')\n",
    "    num8 = list('111101111101111')\n",
    "    num9 = list('111101111001111')\n"
   ]
  },
  {
   "cell_type": "code",
   "execution_count": 17,
   "metadata": {},
   "outputs": [],
   "source": [
    "#Числа подаются строкой "
   ]
  },
  {
   "cell_type": "code",
   "execution_count": 18,
   "metadata": {},
   "outputs": [
    {
     "data": {
      "text/plain": [
       "['0', '0', '1', '0', '0', '1', '0', '0', '1', '0', '0', '1', '0', '0', '1']"
      ]
     },
     "execution_count": 18,
     "metadata": {},
     "output_type": "execute_result"
    }
   ],
   "source": [
    "num1"
   ]
  },
  {
   "cell_type": "code",
   "execution_count": 19,
   "metadata": {},
   "outputs": [
    {
     "data": {
      "text/plain": [
       "['1', '1', '1', '0', '0', '1', '1', '1', '1', '1', '0', '0', '1', '1', '1']"
      ]
     },
     "execution_count": 19,
     "metadata": {},
     "output_type": "execute_result"
    }
   ],
   "source": [
    "num2"
   ]
  },
  {
   "cell_type": "code",
   "execution_count": 20,
   "metadata": {},
   "outputs": [
    {
     "data": {
      "text/plain": [
       "['1', '1', '1', '1', '0', '1', '1', '0', '1', '1', '0', '1', '1', '1', '1']"
      ]
     },
     "execution_count": 20,
     "metadata": {},
     "output_type": "execute_result"
    }
   ],
   "source": [
    "num0"
   ]
  },
  {
   "cell_type": "code",
   "execution_count": 21,
   "metadata": {},
   "outputs": [],
   "source": [
    "#Создаем обучающую выборку из списка чисел(входной слой)"
   ]
  },
  {
   "cell_type": "code",
   "execution_count": 22,
   "metadata": {},
   "outputs": [],
   "source": [
    "nums = [num0, num1, num2, num3, num4, num5, num6, num7, num8, num9]"
   ]
  },
  {
   "cell_type": "code",
   "execution_count": 23,
   "metadata": {},
   "outputs": [],
   "source": [
    "#Помимо обучающей выборки нужна еще и тестовая, чтобы как-то прогнать значения(Стертые картинки- где-то не хватает 1)"
   ]
  },
  {
   "cell_type": "code",
   "execution_count": 24,
   "metadata": {},
   "outputs": [],
   "source": [
    "    num51 = list('111100111000111')\n",
    "    num52 = list('111100010001111')\n",
    "    num53 = list('111100011001111')\n",
    "    num54 = list('110100111001111')\n",
    "    num55 = list('110100111001011')\n",
    "    num56 = list('111100101001111')"
   ]
  },
  {
   "cell_type": "code",
   "execution_count": 25,
   "metadata": {},
   "outputs": [],
   "source": [
    "#Без весов нам не обойтись- инициализируем список, и ставим изначально все нулями- решается генератором"
   ]
  },
  {
   "cell_type": "code",
   "execution_count": 26,
   "metadata": {},
   "outputs": [],
   "source": [
    "weights=[0 for i in range(15)]"
   ]
  },
  {
   "cell_type": "code",
   "execution_count": 27,
   "metadata": {},
   "outputs": [
    {
     "data": {
      "text/plain": [
       "[0, 0, 0, 0, 0, 0, 0, 0, 0, 0, 0, 0, 0, 0, 0]"
      ]
     },
     "execution_count": 27,
     "metadata": {},
     "output_type": "execute_result"
    }
   ],
   "source": [
    "weights"
   ]
  },
  {
   "cell_type": "code",
   "execution_count": 28,
   "metadata": {},
   "outputs": [],
   "source": [
    "#Выбираем порог"
   ]
  },
  {
   "cell_type": "code",
   "execution_count": 64,
   "metadata": {},
   "outputs": [],
   "source": [
    "bias=10"
   ]
  },
  {
   "cell_type": "code",
   "execution_count": 30,
   "metadata": {},
   "outputs": [],
   "source": [
    "#Идем в функциональное программирование и создаем функции, которые будут выполнять элементарные действия:"
   ]
  },
  {
   "cell_type": "code",
   "execution_count": 31,
   "metadata": {},
   "outputs": [],
   "source": [
    "#1 Проверка на соответствие цифры -- 2 Увеличение коэффициента весов -- 3 Уменьшение коэффициента весов"
   ]
  },
  {
   "cell_type": "code",
   "execution_count": 67,
   "metadata": {},
   "outputs": [],
   "source": [
    "def proceed(number):\n",
    "    net=0\n",
    "    #number это наши nums =[num1,num2....num9],прогоняем все 15 ячеек нашего изображения и проверяем соответствие(по сути, считаем, хватает ли количества единичек в ячейках, как это есть у нашей оригинальной цифры , на соответствие с которой мы и проверяем)\n",
    "    for i in range(15):\n",
    "        net+=int(number[i])*weights[i]\n",
    "    return net>=bias\n",
    "#возвращаем истину или ложь в выражении, таким образом мы управляем поведением функции тренеровки\n",
    "#net -это наша сеть ,если количество необходимых единиц в ячейках на тех же местах, что и на весах( дело в том, что задача нейронной сети как раз таки и заключается в том, чтобы создать едиинциы  там, где они есть у оригинала, и если между весами и теми местами совпадение есть, то есть и соответствие, а значит мы движемся в правильном направлении. Добавляем +1 к net , чтобы показать, что мы движемся в правильном направлении )"
   ]
  },
  {
   "cell_type": "code",
   "execution_count": 74,
   "metadata": {},
   "outputs": [],
   "source": [
    "# Тренировка сети\n",
    "for i in range(10000): # решая обучать, мы n раз выполняем функцию тренеровки, а именно: подаем n раз в функцию proceed , генерируем рандомное значение от 0 до 9, а в зависимости от соостветствия тех участков оригинльного с участками в матрице весов, мы эти веса корректируем, путем добавления или уменьшения соответствующих коэффициентов весов\n",
    "        # Генерируем случайное число от 0 до 9\n",
    "    option = random.randint(0, 9)\n",
    "     \n",
    "        # Если получилось НЕ необходимое число( в нашем случае это 5, тогда ... проверяем еще условия)\n",
    "    if option != 5:\n",
    "            # Если сеть выдаст True,а у нас получилось не необходимое число, то мы , собственно, уменьшаем веса в тех местах, которые сеть сбивают с толку\n",
    "        if proceed(nums[option]):\n",
    "                decrease(nums[option])\n",
    "        # Если необходимое число выдало, а сеть не узнала его, то мы правим картину, добавляя единицу в необходимые места\n",
    "    else:\n",
    "        if not proceed(num5):   \n",
    "            increase(num5)\n"
   ]
  },
  {
   "cell_type": "code",
   "execution_count": 73,
   "metadata": {},
   "outputs": [],
   "source": [
    "#Теперь подробнее о 2х функциях -- Уменьшение и Увеличение Коэффициента весов -- Если на том месте ,где 1 у оригинала есть ,у веса не стоит, значит нужно на то место добавить +1 , ну или если наоборот, то ту единицу надо убрать"
   ]
  },
  {
   "cell_type": "code",
   "execution_count": 76,
   "metadata": {},
   "outputs": [],
   "source": [
    "# Увеличение значений весов, если сеть ошиблась и выдала 0, а именно. Мы берем весь список и смотрим, где единички, \n",
    "def increase(number):\n",
    "    for i in range(15):\n",
    "        if int(number[i]) == 1:\n",
    "                weights[i] += 1"
   ]
  },
  {
   "cell_type": "code",
   "execution_count": 75,
   "metadata": {},
   "outputs": [],
   "source": [
    "# Уменьшение значений весов, если сеть ошиблась и выдала 1\n",
    "def decrease(number):\n",
    "    for i in range(15):\n",
    "        if int(number[i]) == 1:\n",
    "                weights[i] -= 1"
   ]
  },
  {
   "cell_type": "code",
   "execution_count": 66,
   "metadata": {},
   "outputs": [
    {
     "name": "stdout",
     "output_type": "stream",
     "text": [
      "[1, 1, 1, 1, 0, -2, 1, 1, 1, -2, 0, 1, 1, 1, 1]\n",
      "0 это 5?  False\n",
      "1 это 5?  False\n",
      "2 это 5?  False\n",
      "3 это 5?  False\n",
      "4 это 5?  False\n",
      "6 это 5?  False\n",
      "7 это 5?  False\n",
      "8 это 5?  False\n",
      "9 это 5?  False \n",
      "\n",
      "Узнал 5?  True\n",
      "Узнал 5 - 1?  True\n",
      "Узнал 5 - 2?  False\n",
      "Узнал 5 - 3?  True\n",
      "Узнал 5 - 4?  True\n",
      "Узнал 5 - 5?  False\n",
      "Узнал 5 - 6?  True\n"
     ]
    }
   ],
   "source": [
    "    # Вывод значений весов\n",
    "    print(weights)\n",
    "     \n",
    "    # Прогон по обучающей выборке\n",
    "    print(\"0 это 5? \", proceed(num0))\n",
    "    print(\"1 это 5? \", proceed(num1))\n",
    "    print(\"2 это 5? \", proceed(num2))\n",
    "    print(\"3 это 5? \", proceed(num3))\n",
    "    print(\"4 это 5? \", proceed(num4))\n",
    "    print(\"6 это 5? \", proceed(num6))\n",
    "    print(\"7 это 5? \", proceed(num7))\n",
    "    print(\"8 это 5? \", proceed(num8))\n",
    "    print(\"9 это 5? \", proceed(num9), '\\n')\n",
    "     \n",
    "    # Прогон по тестовой выборке\n",
    "    print(\"Узнал 5? \", proceed(num5))\n",
    "    print(\"Узнал 5 - 1? \", proceed(num51))\n",
    "    print(\"Узнал 5 - 2? \", proceed(num52))\n",
    "    print(\"Узнал 5 - 3? \", proceed(num53))\n",
    "    print(\"Узнал 5 - 4? \", proceed(num54))\n",
    "    print(\"Узнал 5 - 5? \", proceed(num55))\n",
    "    print(\"Узнал 5 - 6? \", proceed(num56))"
   ]
  },
  {
   "cell_type": "code",
   "execution_count": null,
   "metadata": {},
   "outputs": [],
   "source": []
  },
  {
   "cell_type": "code",
   "execution_count": null,
   "metadata": {},
   "outputs": [],
   "source": []
  }
 ],
 "metadata": {
  "kernelspec": {
   "display_name": "Python 3",
   "language": "python",
   "name": "python3"
  },
  "language_info": {
   "codemirror_mode": {
    "name": "ipython",
    "version": 3
   },
   "file_extension": ".py",
   "mimetype": "text/x-python",
   "name": "python",
   "nbconvert_exporter": "python",
   "pygments_lexer": "ipython3",
   "version": "3.6.7"
  }
 },
 "nbformat": 4,
 "nbformat_minor": 2
}
